{
 "cells": [
  {
   "cell_type": "markdown",
   "metadata": {
    "colab_type": "text",
    "id": "HHEofVKhbKOJ"
   },
   "source": [
    "Let me tell you a story, Once a statistician was lost in a jungle. It was pitch dark. Nothing could be seen around. The statistician was afraid but he kept moving. Suddenly, he saw a small house. He went there and knocked on the door. Someone opened the door. \n",
    "\n",
    "Guess what was the first question that came out of the statistician's mouth...\n",
    "\n",
    "Bhaiya, yahan kahin aas paas Normal Distribution milega?\n",
    "\n",
    "That's how important Normal distribution is in a Statistician's (read, Data Analyst) life. Whenever a statistician is lost in an analysis, his/her first response is to reach or find a normal distribution somewhere. \n",
    "\n",
    "![alt text](https://media2.giphy.com/media/maIEBUU5OmrMA/source.gif)\n",
    "\n",
    "Although, we are going to study Normal Distribution in future episodes:). Today I want you to get a feel of the Normal/Gaussian Distribution."
   ]
  },
  {
   "cell_type": "markdown",
   "metadata": {
    "colab_type": "text",
    "id": "udWaNZcNehRo"
   },
   "source": [
    "In a normal distribution, there are 2 things of utmost importance, Mean and the Standard Deviation. ([Read more about Normal Distribution here](https://en.wikipedia.org/wiki/Normal_distribution)).\n",
    "\n",
    "I want you to create a function which takes 2 inputs - the Mean and Standard Deviation and prints out the graph of the Normal Distribution (also known as PDF, you will find the formula in the wiki article). Assume x is given and calculate y using the pdf formula. The resultant graph would look something like this (any one of them):!\n",
    "\n",
    "![](https://upload.wikimedia.org/wikipedia/commons/thumb/7/74/Normal_Distribution_PDF.svg/340px-Normal_Distribution_PDF.svg.png)"
   ]
  },
  {
   "cell_type": "code",
   "execution_count": 11,
   "metadata": {
    "colab": {},
    "colab_type": "code",
    "id": "fhPRbXGiXaoK"
   },
   "outputs": [],
   "source": [
    "import numpy as np\n",
    "\n",
    "# Write function code here\n",
    "def plotter(meanValue,sdValue):\n",
    "  x=np.linspace(-10,10,100)\n",
    "\n"
   ]
  },
  {
   "cell_type": "code",
   "execution_count": 12,
   "metadata": {
    "colab": {},
    "colab_type": "code",
    "id": "p9x7LVMBgs43"
   },
   "outputs": [],
   "source": [
    "# You have write a function which takes 2 numpy array as input and returns \"Hoga\" or \"Nahi Hoga\" \n",
    "# depending on if broadcasting is possible on those two arrays"
   ]
  },
  {
   "cell_type": "code",
   "execution_count": 13,
   "metadata": {
    "colab": {},
    "colab_type": "code",
    "id": "1G3RYovHJRYj"
   },
   "outputs": [],
   "source": [
    "# Write your logic here\n",
    "def hoga_ki_nahi(arr1,arr2):\n",
    "  return #\"Hoga\"/\"Nahi Hoga\""
   ]
  },
  {
   "cell_type": "code",
   "execution_count": 9,
   "metadata": {
    "colab": {},
    "colab_type": "code",
    "id": "HxyIWB__JUJQ"
   },
   "outputs": [],
   "source": [
    "# Test your function here"
   ]
  },
  {
   "cell_type": "code",
   "execution_count": 15,
   "metadata": {},
   "outputs": [
    {
     "name": "stderr",
     "output_type": "stream",
     "text": [
      "C:\\ProgramData\\Anaconda3\\lib\\site-packages\\ipykernel_launcher.py:8: VisibleDeprecationWarning: Passing `normed=True` on non-uniform bins has always been broken, and computes neither the probability density function nor the probability mass function. The result is only correct if the bins are uniform, when density=True will produce the same result anyway. The argument will be removed in a future version of numpy.\n",
      "  \n"
     ]
    },
    {
     "data": {
      "image/png": "[encoded data removed]",
      "text/plain": [
       "<Figure size 432x288 with 1 Axes>"
      ]
     },
     "metadata": {
      "needs_background": "light"
     },
     "output_type": "display_data"
    }
   ],
   "source": [
    "import numpy as np\n",
    "\n",
    "# Sample from a normal distribution using numpy's random number generator\n",
    "samples = np.random.normal(size=10000)\n",
    "\n",
    "# Compute a histogram of the sample\n",
    "bins = np.linspace(-5, 5, 30)\n",
    "histogram, bins = np.histogram(samples, bins=bins, normed=True)\n",
    "\n",
    "bin_centers = 0.5*(bins[1:] + bins[:-1])\n",
    "\n",
    "# Compute the PDF on the bin centers from scipy distribution object\n",
    "from scipy import stats\n",
    "pdf = stats.norm.pdf(bin_centers)\n",
    "\n",
    "from matplotlib import pyplot as plt\n",
    "plt.figure(figsize=(6, 4))\n",
    "plt.plot(bin_centers, histogram, label=\"Histogram of samples\")\n",
    "plt.plot(bin_centers, pdf, label=\"PDF\")\n",
    "plt.legend()\n",
    "plt.show()"
   ]
  },
  {
   "cell_type": "code",
   "execution_count": null,
   "metadata": {},
   "outputs": [],
   "source": []
  }
 ],
 "metadata": {
  "colab": {
   "name": "numpy-assignment-5.ipynb",
   "provenance": []
  },
  "kernelspec": {
   "display_name": "Python 3",
   "language": "python",
   "name": "python3"
  },
  "language_info": {
   "codemirror_mode": {
    "name": "ipython",
    "version": 3
   },
   "file_extension": ".py",
   "mimetype": "text/x-python",
   "name": "python",
   "nbconvert_exporter": "python",
   "pygments_lexer": "ipython3",
   "version": "3.7.1"
  }
 },
 "nbformat": 4,
 "nbformat_minor": 1
}
