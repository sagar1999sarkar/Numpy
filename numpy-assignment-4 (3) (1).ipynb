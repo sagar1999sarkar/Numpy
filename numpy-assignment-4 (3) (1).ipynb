{
 "cells": [
  {
   "cell_type": "code",
   "execution_count": 61,
   "metadata": {
    "colab": {},
    "colab_type": "code",
    "id": "LYAs5f4MUyqX"
   },
   "outputs": [],
   "source": [
    "import numpy as np"
   ]
  },
  {
   "cell_type": "code",
   "execution_count": 62,
   "metadata": {
    "colab": {
     "base_uri": "https://localhost:8080/",
     "height": 87
    },
    "colab_type": "code",
    "executionInfo": {
     "elapsed": 924,
     "status": "ok",
     "timestamp": 1569497455179,
     "user": {
      "displayName": "CampusX",
      "photoUrl": "https://lh3.googleusercontent.com/a-/AAuE7mAqesPQNOpEoMAQoXx5dZGm2aa3QN9h3l2hfcGv=s64",
      "userId": "17274569631252575216"
     },
     "user_tz": -330
    },
    "id": "kith96zaU3v4",
    "outputId": "b6e047b3-9c95-4a37-98fd-143b3c36ec3d"
   },
   "outputs": [],
   "source": [
    "arr1=np.arange(20).reshape(4,5)\n",
    "arr1\n",
    "arr=arr1"
   ]
  },
  {
   "cell_type": "code",
   "execution_count": 63,
   "metadata": {
    "colab": {},
    "colab_type": "code",
    "id": "hSQuEs7WVpXk"
   },
   "outputs": [],
   "source": [
    "# Q1 Write a numpy code to swap col1([0,5,10,15]) with col4([3,8,13,18])\n",
    "# Hint----> Fancy Indexing"
   ]
  },
  {
   "cell_type": "code",
   "execution_count": 64,
   "metadata": {},
   "outputs": [
    {
     "data": {
      "text/plain": [
       "array([[ 0,  1,  2,  3,  4],\n",
       "       [ 5,  6,  7,  8,  9],\n",
       "       [10, 11, 12, 13, 14],\n",
       "       [15, 16, 17, 18, 19]])"
      ]
     },
     "execution_count": 64,
     "metadata": {},
     "output_type": "execute_result"
    }
   ],
   "source": [
    "arr"
   ]
  },
  {
   "cell_type": "code",
   "execution_count": 65,
   "metadata": {},
   "outputs": [
    {
     "data": {
      "text/plain": [
       "array([[ 3,  1,  2,  0,  4],\n",
       "       [ 8,  6,  7,  5,  9],\n",
       "       [13, 11, 12, 10, 14],\n",
       "       [18, 16, 17, 15, 19]])"
      ]
     },
     "execution_count": 65,
     "metadata": {},
     "output_type": "execute_result"
    }
   ],
   "source": [
    "t=arr[:,[0,]]\n",
    "arr[:,[0,]]=arr[:,[3,]]\n",
    "arr[:,[3,]]=t\n",
    "arr"
   ]
  },
  {
   "cell_type": "code",
   "execution_count": 66,
   "metadata": {
    "colab": {},
    "colab_type": "code",
    "id": "qzrMoxJSWOEm"
   },
   "outputs": [],
   "source": [
    "# Q2 Write a numpy code to reverse the rows of arr1\n",
    "# The output should be [15, 16, 17, 18, 19] as first row and [ 0,  1,  2,  3,  4] as last row"
   ]
  },
  {
   "cell_type": "code",
   "execution_count": 67,
   "metadata": {},
   "outputs": [
    {
     "data": {
      "text/plain": [
       "array([[ 4,  0,  2,  1,  3],\n",
       "       [ 9,  5,  7,  6,  8],\n",
       "       [14, 10, 12, 11, 13],\n",
       "       [19, 15, 17, 16, 18]])"
      ]
     },
     "execution_count": 67,
     "metadata": {},
     "output_type": "execute_result"
    }
   ],
   "source": [
    "arr1[0]=np.flip(arr1[0])\n",
    "arr1[1]=np.flip(arr1[1])\n",
    "arr1[2]=np.flip(arr1[2])\n",
    "arr1[3]=np.flip(arr1[3])\n",
    "arr1"
   ]
  },
  {
   "cell_type": "code",
   "execution_count": 77,
   "metadata": {
    "colab": {
     "base_uri": "https://localhost:8080/",
     "height": 69
    },
    "colab_type": "code",
    "executionInfo": {
     "elapsed": 910,
     "status": "ok",
     "timestamp": 1569498518262,
     "user": {
      "displayName": "CampusX",
      "photoUrl": "https://lh3.googleusercontent.com/a-/AAuE7mAqesPQNOpEoMAQoXx5dZGm2aa3QN9h3l2hfcGv=s64",
      "userId": "17274569631252575216"
     },
     "user_tz": -330
    },
    "id": "qU9DW6vQWivF",
    "outputId": "3d706bd7-c7aa-4c8e-a6a9-d39df165120b"
   },
   "outputs": [
    {
     "data": {
      "text/plain": [
       "array([[ 1.,  2., nan],\n",
       "       [ 4.,  5.,  6.],\n",
       "       [nan, nan,  9.]])"
      ]
     },
     "execution_count": 77,
     "metadata": {},
     "output_type": "execute_result"
    }
   ],
   "source": [
    "arr2=np.array([[1,2,np.nan],[4,5,6],[np.nan,np.nan,9]])\n",
    "arr2"
   ]
  },
  {
   "cell_type": "code",
   "execution_count": 69,
   "metadata": {
    "colab": {},
    "colab_type": "code",
    "id": "V9pLugRlXZCV"
   },
   "outputs": [],
   "source": [
    "# Q3 Write a code to replace all the nan(missing values) of arr2 with the mean of arr2"
   ]
  },
  {
   "cell_type": "code",
   "execution_count": 79,
   "metadata": {},
   "outputs": [
    {
     "name": "stdout",
     "output_type": "stream",
     "text": [
      "[[1.  2.  7.5]\n",
      " [4.  5.  6. ]\n",
      " [2.5 3.5 9. ]]\n"
     ]
    }
   ],
   "source": [
    "col_mean = np.nanmean(arr2, axis=0)\n",
    "\n",
    "inds = np.where(np.isnan(arr2))\n",
    "\n",
    "arr2[inds] = np.take(col_mean, inds[1])\n",
    "\n",
    "print(arr2)"
   ]
  },
  {
   "cell_type": "code",
   "execution_count": null,
   "metadata": {},
   "outputs": [],
   "source": []
  },
  {
   "cell_type": "code",
   "execution_count": 84,
   "metadata": {
    "colab": {
     "base_uri": "https://localhost:8080/",
     "height": 104
    },
    "colab_type": "code",
    "executionInfo": {
     "elapsed": 1022,
     "status": "ok",
     "timestamp": 1569498664706,
     "user": {
      "displayName": "CampusX",
      "photoUrl": "https://lh3.googleusercontent.com/a-/AAuE7mAqesPQNOpEoMAQoXx5dZGm2aa3QN9h3l2hfcGv=s64",
      "userId": "17274569631252575216"
     },
     "user_tz": -330
    },
    "id": "F3tUsOivZ6Wf",
    "outputId": "7c89d9c3-c3be-4866-d2e9-a3ba8f9c62c8"
   },
   "outputs": [
    {
     "data": {
      "text/plain": [
       "array([[ 7, 43, 34, 60],\n",
       "       [ 3, 55, 78, 36],\n",
       "       [94, 37, 84, 52],\n",
       "       [33, 79, 12, 18],\n",
       "       [63, 78, 42, 52]])"
      ]
     },
     "execution_count": 84,
     "metadata": {},
     "output_type": "execute_result"
    }
   ],
   "source": [
    "arr3=np.random.randint(low=1,high=100,size=20).reshape(5,4)\n",
    "arr3"
   ]
  },
  {
   "cell_type": "code",
   "execution_count": 85,
   "metadata": {
    "colab": {},
    "colab_type": "code",
    "id": "HzeC03N6aQpx"
   },
   "outputs": [],
   "source": [
    "# Q4 Write a code which can fetch all items from arr3 which are either greater than 25 or a multiple of 3"
   ]
  },
  {
   "cell_type": "code",
   "execution_count": 101,
   "metadata": {},
   "outputs": [
    {
     "data": {
      "text/plain": [
       "array([ 3,  7, 12, 18, 33, 34, 36, 37, 42, 43, 52, 52, 55, 60, 63, 78, 78,\n",
       "       79, 84, 94])"
      ]
     },
     "execution_count": 101,
     "metadata": {},
     "output_type": "execute_result"
    }
   ],
   "source": [
    "k=arr3.flatten()\n",
    "k.sort()\n",
    "k"
   ]
  },
  {
   "cell_type": "code",
   "execution_count": 97,
   "metadata": {},
   "outputs": [
    {
     "name": "stdout",
     "output_type": "stream",
     "text": [
      "3\n",
      "12\n",
      "18\n",
      "33\n",
      "34\n",
      "36\n",
      "37\n",
      "42\n",
      "43\n",
      "52\n",
      "52\n",
      "55\n",
      "60\n",
      "63\n",
      "78\n",
      "78\n",
      "79\n",
      "84\n",
      "94\n"
     ]
    }
   ],
   "source": [
    "for i in range(len(k)):\n",
    " if k[i]>25 or k[i]%3==0:\n",
    "  print(k[i])"
   ]
  },
  {
   "cell_type": "code",
   "execution_count": 96,
   "metadata": {},
   "outputs": [
    {
     "name": "stdout",
     "output_type": "stream",
     "text": [
      "94\n"
     ]
    }
   ],
   "source": [
    "print(k[i])"
   ]
  },
  {
   "cell_type": "code",
   "execution_count": 75,
   "metadata": {
    "colab": {},
    "colab_type": "code",
    "id": "PxcxU2ACa9Ri"
   },
   "outputs": [],
   "source": [
    "# Q5 Write a code to find the 10th, 25th, 50th(median) percentile of arr3\n",
    "# Percentiles are a very important concept in Statistics. If you don't know about it refer the video below\n",
    "# https://www.youtube.com/watch?v=Snf6Wpn-L4c\n",
    "# Hint: to solve this function google np.percentile()"
   ]
  },
  {
   "cell_type": "code",
   "execution_count": 106,
   "metadata": {
    "colab": {},
    "colab_type": "code",
    "id": "_8moTHWYcDCt"
   },
   "outputs": [
    {
     "data": {
      "text/plain": [
       "11.5"
      ]
     },
     "execution_count": 106,
     "metadata": {},
     "output_type": "execute_result"
    }
   ],
   "source": [
    "np.percentile(arr3,10)"
   ]
  },
  {
   "cell_type": "code",
   "execution_count": 107,
   "metadata": {},
   "outputs": [
    {
     "data": {
      "text/plain": [
       "33.75"
      ]
     },
     "execution_count": 107,
     "metadata": {},
     "output_type": "execute_result"
    }
   ],
   "source": [
    "np.percentile(arr3,25)"
   ]
  },
  {
   "cell_type": "code",
   "execution_count": 108,
   "metadata": {},
   "outputs": [
    {
     "data": {
      "text/plain": [
       "47.5"
      ]
     },
     "execution_count": 108,
     "metadata": {},
     "output_type": "execute_result"
    }
   ],
   "source": [
    "np.percentile(arr3,50)"
   ]
  },
  {
   "cell_type": "code",
   "execution_count": null,
   "metadata": {},
   "outputs": [],
   "source": []
  }
 ],
 "metadata": {
  "colab": {
   "name": "numpy-assignment-4.ipynb",
   "provenance": []
  },
  "kernelspec": {
   "display_name": "Python 3",
   "language": "python",
   "name": "python3"
  },
  "language_info": {
   "codemirror_mode": {
    "name": "ipython",
    "version": 3
   },
   "file_extension": ".py",
   "mimetype": "text/x-python",
   "name": "python",
   "nbconvert_exporter": "python",
   "pygments_lexer": "ipython3",
   "version": "3.7.1"
  }
 },
 "nbformat": 4,
 "nbformat_minor": 1
}
